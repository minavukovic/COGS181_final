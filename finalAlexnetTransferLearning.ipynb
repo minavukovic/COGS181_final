{
 "cells": [
  {
   "cell_type": "code",
   "execution_count": 1,
   "metadata": {
    "colab": {},
    "colab_type": "code",
    "id": "NONCpi3PFGlI"
   },
   "outputs": [],
   "source": [
    "import torch\n",
    "import torch.nn as nn\n",
    "import torch.optim as optim\n",
    "import torchvision\n",
    "from torchvision import models, transforms \n",
    "from PIL import Image\n",
    "\n",
    "import matplotlib.pyplot as plt\n",
    "import seaborn as sn\n",
    "import numpy as np\n",
    "from sklearn.metrics import confusion_matrix"
   ]
  },
  {
   "cell_type": "code",
   "execution_count": 2,
   "metadata": {
    "colab": {
     "base_uri": "https://localhost:8080/",
     "height": 103,
     "referenced_widgets": [
      "acfa9750637a4ef894115b6d1a85f38d",
      "34155e58ab3f4626a06f7ccf9cdfd27c",
      "dfb9171bd918474fad396e3b000b5c26",
      "e0c1f9ff785e459f9ae9e3fcfe61b43e",
      "6e1794234203413c8e61b9b16f58e6f8",
      "f591c9b667d34e3084fd0cb237b666f0",
      "52d358ac023a42498f0462e28cc15973",
      "4c7f7e2a70fd48cb98ad78b23b19a5f3"
     ]
    },
    "colab_type": "code",
    "id": "H8F8qzCnFL_P",
    "outputId": "beb0e69b-6892-4436-9006-de34505c48ca"
   },
   "outputs": [
    {
     "name": "stderr",
     "output_type": "stream",
     "text": [
      "Downloading: \"https://download.pytorch.org/models/alexnet-owt-4df8aa71.pth\" to /tmp/xdg-cache/torch/checkpoints/alexnet-owt-4df8aa71.pth\n",
      "100%|██████████| 233M/233M [00:01<00:00, 137MB/s]  \n"
     ]
    }
   ],
   "source": [
    "# get the pretrained weights and baises\n",
    "alexnet = models.alexnet(pretrained=True)\n",
    "\n",
    "for param in alexnet.parameters():\n",
    "    param.requires_grad = False"
   ]
  },
  {
   "cell_type": "code",
   "execution_count": 3,
   "metadata": {
    "colab": {
     "base_uri": "https://localhost:8080/",
     "height": 476
    },
    "colab_type": "code",
    "id": "Iyat3S3pFOed",
    "outputId": "b1901bc8-7c59-412e-838a-0e609f08df7b"
   },
   "outputs": [
    {
     "name": "stdout",
     "output_type": "stream",
     "text": [
      "AlexNet(\n",
      "  (features): Sequential(\n",
      "    (0): Conv2d(3, 64, kernel_size=(11, 11), stride=(4, 4), padding=(2, 2))\n",
      "    (1): ReLU(inplace=True)\n",
      "    (2): MaxPool2d(kernel_size=3, stride=2, padding=0, dilation=1, ceil_mode=False)\n",
      "    (3): Conv2d(64, 192, kernel_size=(5, 5), stride=(1, 1), padding=(2, 2))\n",
      "    (4): ReLU(inplace=True)\n",
      "    (5): MaxPool2d(kernel_size=3, stride=2, padding=0, dilation=1, ceil_mode=False)\n",
      "    (6): Conv2d(192, 384, kernel_size=(3, 3), stride=(1, 1), padding=(1, 1))\n",
      "    (7): ReLU(inplace=True)\n",
      "    (8): Conv2d(384, 256, kernel_size=(3, 3), stride=(1, 1), padding=(1, 1))\n",
      "    (9): ReLU(inplace=True)\n",
      "    (10): Conv2d(256, 256, kernel_size=(3, 3), stride=(1, 1), padding=(1, 1))\n",
      "    (11): ReLU(inplace=True)\n",
      "    (12): MaxPool2d(kernel_size=3, stride=2, padding=0, dilation=1, ceil_mode=False)\n",
      "  )\n",
      "  (avgpool): AdaptiveAvgPool2d(output_size=(6, 6))\n",
      "  (classifier): Sequential(\n",
      "    (0): Dropout(p=0.5, inplace=False)\n",
      "    (1): Linear(in_features=9216, out_features=4096, bias=True)\n",
      "    (2): ReLU(inplace=True)\n",
      "    (3): Dropout(p=0.5, inplace=False)\n",
      "    (4): Linear(in_features=4096, out_features=4096, bias=True)\n",
      "    (5): ReLU(inplace=True)\n",
      "    (6): Linear(in_features=4096, out_features=1000, bias=True)\n",
      "  )\n",
      ")\n"
     ]
    }
   ],
   "source": [
    "print(alexnet)"
   ]
  },
  {
   "cell_type": "code",
   "execution_count": 4,
   "metadata": {
    "colab": {},
    "colab_type": "code",
    "id": "uUuBFT8RFVYc"
   },
   "outputs": [],
   "source": [
    "#transform the data\n",
    "transform = transforms.Compose([            \n",
    " transforms.Resize(256),                    \n",
    " transforms.CenterCrop(224),               \n",
    " transforms.ToTensor(),                     \n",
    " transforms.Normalize(                     \n",
    " mean=[0.485, 0.456, 0.406],                \n",
    " std=[0.229, 0.224, 0.225]                 \n",
    " )])"
   ]
  },
  {
   "cell_type": "code",
   "execution_count": 5,
   "metadata": {
    "colab": {},
    "colab_type": "code",
    "id": "pIXqw1KXF1vV"
   },
   "outputs": [],
   "source": [
    "# Load the dataset anf apply the transformation \n",
    "train_data = torchvision.datasets.ImageFolder(root=\"train\",transform=transform)\n",
    "test_data = torchvision.datasets.ImageFolder(root=\"test\",transform=transform)\n",
    "train_loader = torch.utils.data.DataLoader(train_data, batch_size = 4, shuffle=True, num_workers=2 )\n",
    "test_loader = torch.utils.data.DataLoader(test_data, batch_size = 4, shuffle=True, num_workers=2 )\n",
    "\n",
    "classes = (\"COVID-19\", \"normal\", \"pneumomia\")"
   ]
  },
  {
   "cell_type": "code",
   "execution_count": 6,
   "metadata": {
    "colab": {
     "base_uri": "https://localhost:8080/",
     "height": 357
    },
    "colab_type": "code",
    "id": "rD1rTnUHKeOi",
    "outputId": "b24ad30a-72bc-4154-902e-38c7a8fdac1b"
   },
   "outputs": [
    {
     "name": "stdout",
     "output_type": "stream",
     "text": [
      "Dataset ImageFolder\n",
      "    Number of datapoints: 14729\n",
      "    Root location: train\n",
      "    StandardTransform\n",
      "Transform: Compose(\n",
      "               Resize(size=256, interpolation=PIL.Image.BILINEAR)\n",
      "               CenterCrop(size=(224, 224))\n",
      "               ToTensor()\n",
      "               Normalize(mean=[0.485, 0.456, 0.406], std=[0.229, 0.224, 0.225])\n",
      "           )\n",
      "Dataset ImageFolder\n",
      "    Number of datapoints: 3076\n",
      "    Root location: test\n",
      "    StandardTransform\n",
      "Transform: Compose(\n",
      "               Resize(size=256, interpolation=PIL.Image.BILINEAR)\n",
      "               CenterCrop(size=(224, 224))\n",
      "               ToTensor()\n",
      "               Normalize(mean=[0.485, 0.456, 0.406], std=[0.229, 0.224, 0.225])\n",
      "           )\n"
     ]
    }
   ],
   "source": [
    "print(train_data)\n",
    "print(test_data)"
   ]
  },
  {
   "cell_type": "code",
   "execution_count": 7,
   "metadata": {
    "colab": {
     "base_uri": "https://localhost:8080/",
     "height": 170
    },
    "colab_type": "code",
    "id": "FLe_DeWBUjA8",
    "outputId": "94029565-2ef4-4697-d521-80c38b9ba5ef"
   },
   "outputs": [
    {
     "data": {
      "text/plain": [
       "Sequential(\n",
       "  (0): Dropout(p=0.5, inplace=False)\n",
       "  (1): Linear(in_features=9216, out_features=4096, bias=True)\n",
       "  (2): ReLU(inplace=True)\n",
       "  (3): Dropout(p=0.5, inplace=False)\n",
       "  (4): Linear(in_features=4096, out_features=4096, bias=True)\n",
       "  (5): ReLU(inplace=True)\n",
       "  (6): Linear(in_features=4096, out_features=1000, bias=True)\n",
       ")"
      ]
     },
     "execution_count": 7,
     "metadata": {},
     "output_type": "execute_result"
    }
   ],
   "source": [
    "##check out classification layer of pretrained model \n",
    "alexnet.classifier"
   ]
  },
  {
   "cell_type": "code",
   "execution_count": 8,
   "metadata": {
    "colab": {},
    "colab_type": "code",
    "id": "L--UTHVWKm20"
   },
   "outputs": [],
   "source": [
    "# Keep pretrained Convolution layer but fine tune the classification layer(fully connected neural netwroks)\n",
    "\n",
    "## this is make sure that number of neurons matches: i.e. output of the conv leayer = input of fcnn\n",
    "fcnn_input = alexnet.classifier[1].in_features\n",
    "#3 classes COVID-19, normal, pneumomia\n",
    "num_labels = 3\n",
    "\n",
    "fcnn = nn.Sequential(nn.Linear(fcnn_input, 4096, bias=True),\n",
    "                     nn.ReLU(inplace=True),\n",
    "                     nn.Dropout(p=0.5, inplace=False),\n",
    "\n",
    "                     nn.Linear(4096,1024, bias=True),\n",
    "                     nn.ReLU(inplace=True),\n",
    "                     nn.Dropout(p=0.5, inplace=False),\n",
    "\n",
    "                     nn.Linear(1024,512, bias=True),\n",
    "                     nn.ReLU(inplace=True),\n",
    "                     \n",
    "                     nn.Linear(512,num_labels, bias=True),\n",
    "                     nn.LogSoftmax(dim=1),\n",
    "                     )\n",
    "\n",
    "#replace the default fully connected NN wityh fcnn\n",
    "\n",
    "alexnet.classifier = fcnn"
   ]
  },
  {
   "cell_type": "code",
   "execution_count": 9,
   "metadata": {
    "colab": {
     "base_uri": "https://localhost:8080/",
     "height": 34
    },
    "colab_type": "code",
    "id": "slDPKAPjbjT4",
    "outputId": "c16a5628-0df6-45f6-bd15-c795d0d46593"
   },
   "outputs": [
    {
     "name": "stdout",
     "output_type": "stream",
     "text": [
      "cuda:0\n"
     ]
    }
   ],
   "source": [
    "device = torch.device(\"cuda:0\" if torch.cuda.is_available() else \"cpu\")\n",
    "print(device)"
   ]
  },
  {
   "cell_type": "code",
   "execution_count": 10,
   "metadata": {
    "colab": {
     "base_uri": "https://localhost:8080/",
     "height": 527
    },
    "colab_type": "code",
    "id": "527bUeN4blLK",
    "outputId": "c3c7408b-ae1c-4b42-d450-dcf718d78b18"
   },
   "outputs": [
    {
     "data": {
      "text/plain": [
       "AlexNet(\n",
       "  (features): Sequential(\n",
       "    (0): Conv2d(3, 64, kernel_size=(11, 11), stride=(4, 4), padding=(2, 2))\n",
       "    (1): ReLU(inplace=True)\n",
       "    (2): MaxPool2d(kernel_size=3, stride=2, padding=0, dilation=1, ceil_mode=False)\n",
       "    (3): Conv2d(64, 192, kernel_size=(5, 5), stride=(1, 1), padding=(2, 2))\n",
       "    (4): ReLU(inplace=True)\n",
       "    (5): MaxPool2d(kernel_size=3, stride=2, padding=0, dilation=1, ceil_mode=False)\n",
       "    (6): Conv2d(192, 384, kernel_size=(3, 3), stride=(1, 1), padding=(1, 1))\n",
       "    (7): ReLU(inplace=True)\n",
       "    (8): Conv2d(384, 256, kernel_size=(3, 3), stride=(1, 1), padding=(1, 1))\n",
       "    (9): ReLU(inplace=True)\n",
       "    (10): Conv2d(256, 256, kernel_size=(3, 3), stride=(1, 1), padding=(1, 1))\n",
       "    (11): ReLU(inplace=True)\n",
       "    (12): MaxPool2d(kernel_size=3, stride=2, padding=0, dilation=1, ceil_mode=False)\n",
       "  )\n",
       "  (avgpool): AdaptiveAvgPool2d(output_size=(6, 6))\n",
       "  (classifier): Sequential(\n",
       "    (0): Linear(in_features=9216, out_features=4096, bias=True)\n",
       "    (1): ReLU(inplace=True)\n",
       "    (2): Dropout(p=0.5, inplace=False)\n",
       "    (3): Linear(in_features=4096, out_features=1024, bias=True)\n",
       "    (4): ReLU(inplace=True)\n",
       "    (5): Dropout(p=0.5, inplace=False)\n",
       "    (6): Linear(in_features=1024, out_features=512, bias=True)\n",
       "    (7): ReLU(inplace=True)\n",
       "    (8): Linear(in_features=512, out_features=3, bias=True)\n",
       "    (9): LogSoftmax()\n",
       "  )\n",
       ")"
      ]
     },
     "execution_count": 10,
     "metadata": {},
     "output_type": "execute_result"
    }
   ],
   "source": [
    "# check out the entire architecture\n",
    "alexnet.to(device)"
   ]
  },
  {
   "cell_type": "code",
   "execution_count": 11,
   "metadata": {
    "colab": {},
    "colab_type": "code",
    "id": "On2GnxmIAkyY"
   },
   "outputs": [],
   "source": [
    "#optimizer and loss function\n",
    "# We use cross-entropy as loss function.\n",
    "loss_func = nn.CrossEntropyLoss()  \n",
    "# We use Adam as optimizer.\n",
    "opt = optim.Adam(alexnet.classifier.parameters()) "
   ]
  },
  {
   "cell_type": "code",
   "execution_count": 12,
   "metadata": {
    "colab": {
     "base_uri": "https://localhost:8080/",
     "height": 1000
    },
    "colab_type": "code",
    "id": "A4uGWDXi_q6o",
    "outputId": "ea7782af-0804-4b00-e696-4b5a954470ad"
   },
   "outputs": [
    {
     "name": "stdout",
     "output_type": "stream",
     "text": [
      "[epoch: 0, i:   499] avg mini-batch loss: 0.764\n",
      "[epoch: 0, i:   999] avg mini-batch loss: 0.547\n",
      "[epoch: 0, i:  1499] avg mini-batch loss: 0.524\n",
      "[epoch: 0, i:  1999] avg mini-batch loss: 0.464\n",
      "[epoch: 0, i:  2499] avg mini-batch loss: 0.440\n",
      "[epoch: 0, i:  2999] avg mini-batch loss: 0.439\n",
      "[epoch: 0, i:  3499] avg mini-batch loss: 0.331\n",
      "[epoch: 1, i:   499] avg mini-batch loss: 0.386\n",
      "[epoch: 1, i:   999] avg mini-batch loss: 0.322\n",
      "[epoch: 1, i:  1499] avg mini-batch loss: 0.304\n",
      "[epoch: 1, i:  1999] avg mini-batch loss: 0.351\n",
      "[epoch: 1, i:  2499] avg mini-batch loss: 0.352\n",
      "[epoch: 1, i:  2999] avg mini-batch loss: 0.367\n",
      "[epoch: 1, i:  3499] avg mini-batch loss: 0.323\n",
      "[epoch: 2, i:   499] avg mini-batch loss: 0.318\n",
      "[epoch: 2, i:   999] avg mini-batch loss: 0.322\n",
      "[epoch: 2, i:  1499] avg mini-batch loss: 0.342\n",
      "[epoch: 2, i:  1999] avg mini-batch loss: 0.380\n",
      "[epoch: 2, i:  2499] avg mini-batch loss: 0.303\n",
      "[epoch: 2, i:  2999] avg mini-batch loss: 0.295\n",
      "[epoch: 2, i:  3499] avg mini-batch loss: 0.317\n",
      "[epoch: 3, i:   499] avg mini-batch loss: 0.291\n",
      "[epoch: 3, i:   999] avg mini-batch loss: 0.260\n",
      "[epoch: 3, i:  1499] avg mini-batch loss: 0.301\n",
      "[epoch: 3, i:  1999] avg mini-batch loss: 0.295\n",
      "[epoch: 3, i:  2499] avg mini-batch loss: 0.423\n",
      "[epoch: 3, i:  2999] avg mini-batch loss: 0.302\n",
      "[epoch: 3, i:  3499] avg mini-batch loss: 0.300\n",
      "[epoch: 4, i:   499] avg mini-batch loss: 0.270\n",
      "[epoch: 4, i:   999] avg mini-batch loss: 0.286\n",
      "[epoch: 4, i:  1499] avg mini-batch loss: 0.319\n",
      "[epoch: 4, i:  1999] avg mini-batch loss: 0.278\n",
      "[epoch: 4, i:  2499] avg mini-batch loss: 0.254\n",
      "[epoch: 4, i:  2999] avg mini-batch loss: 0.316\n",
      "[epoch: 4, i:  3499] avg mini-batch loss: 0.264\n",
      "[epoch: 5, i:   499] avg mini-batch loss: 0.283\n",
      "[epoch: 5, i:   999] avg mini-batch loss: 0.324\n",
      "[epoch: 5, i:  1499] avg mini-batch loss: 0.289\n",
      "[epoch: 5, i:  1999] avg mini-batch loss: 0.326\n",
      "[epoch: 5, i:  2499] avg mini-batch loss: 0.296\n",
      "[epoch: 5, i:  2999] avg mini-batch loss: 0.290\n",
      "[epoch: 5, i:  3499] avg mini-batch loss: 0.273\n",
      "[epoch: 6, i:   499] avg mini-batch loss: 0.266\n",
      "[epoch: 6, i:   999] avg mini-batch loss: 0.258\n",
      "[epoch: 6, i:  1499] avg mini-batch loss: 0.258\n",
      "[epoch: 6, i:  1999] avg mini-batch loss: 0.229\n",
      "[epoch: 6, i:  2499] avg mini-batch loss: 0.329\n",
      "[epoch: 6, i:  2999] avg mini-batch loss: 0.267\n",
      "[epoch: 6, i:  3499] avg mini-batch loss: 0.282\n",
      "[epoch: 7, i:   499] avg mini-batch loss: 0.243\n",
      "[epoch: 7, i:   999] avg mini-batch loss: 0.293\n",
      "[epoch: 7, i:  1499] avg mini-batch loss: 0.217\n",
      "[epoch: 7, i:  1999] avg mini-batch loss: 0.243\n",
      "[epoch: 7, i:  2499] avg mini-batch loss: 0.271\n",
      "[epoch: 7, i:  2999] avg mini-batch loss: 0.320\n",
      "[epoch: 7, i:  3499] avg mini-batch loss: 0.348\n",
      "[epoch: 8, i:   499] avg mini-batch loss: 0.229\n",
      "[epoch: 8, i:   999] avg mini-batch loss: 0.349\n",
      "[epoch: 8, i:  1499] avg mini-batch loss: 0.282\n",
      "[epoch: 8, i:  1999] avg mini-batch loss: 0.316\n",
      "[epoch: 8, i:  2499] avg mini-batch loss: 0.266\n",
      "[epoch: 8, i:  2999] avg mini-batch loss: 0.246\n",
      "[epoch: 8, i:  3499] avg mini-batch loss: 0.239\n",
      "[epoch: 9, i:   499] avg mini-batch loss: 0.266\n",
      "[epoch: 9, i:   999] avg mini-batch loss: 0.284\n",
      "[epoch: 9, i:  1499] avg mini-batch loss: 0.229\n",
      "[epoch: 9, i:  1999] avg mini-batch loss: 0.238\n",
      "[epoch: 9, i:  2499] avg mini-batch loss: 0.260\n",
      "[epoch: 9, i:  2999] avg mini-batch loss: 0.224\n",
      "[epoch: 9, i:  3499] avg mini-batch loss: 0.355\n",
      "[epoch: 10, i:   499] avg mini-batch loss: 0.229\n",
      "[epoch: 10, i:   999] avg mini-batch loss: 0.232\n",
      "[epoch: 10, i:  1499] avg mini-batch loss: 0.183\n",
      "[epoch: 10, i:  1999] avg mini-batch loss: 0.214\n",
      "[epoch: 10, i:  2499] avg mini-batch loss: 0.238\n",
      "[epoch: 10, i:  2999] avg mini-batch loss: 0.255\n",
      "[epoch: 10, i:  3499] avg mini-batch loss: 0.234\n",
      "[epoch: 11, i:   499] avg mini-batch loss: 0.238\n",
      "[epoch: 11, i:   999] avg mini-batch loss: 0.284\n",
      "[epoch: 11, i:  1499] avg mini-batch loss: 0.370\n",
      "[epoch: 11, i:  1999] avg mini-batch loss: 0.261\n",
      "[epoch: 11, i:  2499] avg mini-batch loss: 0.344\n",
      "[epoch: 11, i:  2999] avg mini-batch loss: 0.223\n",
      "[epoch: 11, i:  3499] avg mini-batch loss: 0.222\n",
      "[epoch: 12, i:   499] avg mini-batch loss: 0.168\n",
      "[epoch: 12, i:   999] avg mini-batch loss: 0.229\n",
      "[epoch: 12, i:  1499] avg mini-batch loss: 0.272\n",
      "[epoch: 12, i:  1999] avg mini-batch loss: 0.226\n",
      "[epoch: 12, i:  2499] avg mini-batch loss: 0.372\n",
      "[epoch: 12, i:  2999] avg mini-batch loss: 0.319\n",
      "[epoch: 12, i:  3499] avg mini-batch loss: 0.282\n",
      "[epoch: 13, i:   499] avg mini-batch loss: 0.219\n",
      "[epoch: 13, i:   999] avg mini-batch loss: 0.235\n",
      "[epoch: 13, i:  1499] avg mini-batch loss: 0.308\n",
      "[epoch: 13, i:  1999] avg mini-batch loss: 0.214\n",
      "[epoch: 13, i:  2499] avg mini-batch loss: 0.874\n",
      "[epoch: 13, i:  2999] avg mini-batch loss: 0.338\n",
      "[epoch: 13, i:  3499] avg mini-batch loss: 0.224\n",
      "[epoch: 14, i:   499] avg mini-batch loss: 0.226\n",
      "[epoch: 14, i:   999] avg mini-batch loss: 0.336\n",
      "[epoch: 14, i:  1499] avg mini-batch loss: 0.216\n",
      "[epoch: 14, i:  1999] avg mini-batch loss: 0.195\n",
      "[epoch: 14, i:  2499] avg mini-batch loss: 0.204\n",
      "[epoch: 14, i:  2999] avg mini-batch loss: 0.413\n",
      "[epoch: 14, i:  3499] avg mini-batch loss: 0.329\n",
      "[epoch: 15, i:   499] avg mini-batch loss: 0.238\n",
      "[epoch: 15, i:   999] avg mini-batch loss: 0.225\n",
      "[epoch: 15, i:  1499] avg mini-batch loss: 0.193\n",
      "[epoch: 15, i:  1999] avg mini-batch loss: 0.219\n",
      "[epoch: 15, i:  2499] avg mini-batch loss: 0.197\n",
      "[epoch: 15, i:  2999] avg mini-batch loss: 0.197\n",
      "[epoch: 15, i:  3499] avg mini-batch loss: 0.211\n",
      "[epoch: 16, i:   499] avg mini-batch loss: 0.233\n",
      "[epoch: 16, i:   999] avg mini-batch loss: 0.257\n",
      "[epoch: 16, i:  1499] avg mini-batch loss: 0.363\n",
      "[epoch: 16, i:  1999] avg mini-batch loss: 0.247\n",
      "[epoch: 16, i:  2499] avg mini-batch loss: 0.210\n",
      "[epoch: 16, i:  2999] avg mini-batch loss: 0.215\n",
      "[epoch: 16, i:  3499] avg mini-batch loss: 0.258\n",
      "[epoch: 17, i:   499] avg mini-batch loss: 0.186\n",
      "[epoch: 17, i:   999] avg mini-batch loss: 0.261\n",
      "[epoch: 17, i:  1499] avg mini-batch loss: 0.214\n",
      "[epoch: 17, i:  1999] avg mini-batch loss: 0.202\n",
      "[epoch: 17, i:  2499] avg mini-batch loss: 0.244\n",
      "[epoch: 17, i:  2999] avg mini-batch loss: 0.270\n",
      "[epoch: 17, i:  3499] avg mini-batch loss: 0.312\n",
      "[epoch: 18, i:   499] avg mini-batch loss: 0.305\n",
      "[epoch: 18, i:   999] avg mini-batch loss: 0.282\n",
      "[epoch: 18, i:  1499] avg mini-batch loss: 0.281\n",
      "[epoch: 18, i:  1999] avg mini-batch loss: 0.194\n",
      "[epoch: 18, i:  2499] avg mini-batch loss: 0.305\n",
      "[epoch: 18, i:  2999] avg mini-batch loss: 0.207\n",
      "[epoch: 18, i:  3499] avg mini-batch loss: 0.210\n",
      "[epoch: 19, i:   499] avg mini-batch loss: 0.391\n",
      "[epoch: 19, i:   999] avg mini-batch loss: 0.360\n",
      "[epoch: 19, i:  1499] avg mini-batch loss: 0.258\n",
      "[epoch: 19, i:  1999] avg mini-batch loss: 0.257\n",
      "[epoch: 19, i:  2499] avg mini-batch loss: 0.407\n",
      "[epoch: 19, i:  2999] avg mini-batch loss: 0.290\n",
      "[epoch: 19, i:  3499] avg mini-batch loss: 0.207\n",
      "[epoch: 20, i:   499] avg mini-batch loss: 0.183\n",
      "[epoch: 20, i:   999] avg mini-batch loss: 0.242\n",
      "[epoch: 20, i:  1499] avg mini-batch loss: 0.173\n",
      "[epoch: 20, i:  1999] avg mini-batch loss: 0.173\n",
      "[epoch: 20, i:  2499] avg mini-batch loss: 0.281\n",
      "[epoch: 20, i:  2999] avg mini-batch loss: 0.206\n",
      "[epoch: 20, i:  3499] avg mini-batch loss: 0.221\n",
      "[epoch: 21, i:   499] avg mini-batch loss: 0.222\n",
      "[epoch: 21, i:   999] avg mini-batch loss: 0.170\n",
      "[epoch: 21, i:  1499] avg mini-batch loss: 0.252\n",
      "[epoch: 21, i:  1999] avg mini-batch loss: 0.253\n",
      "[epoch: 21, i:  2499] avg mini-batch loss: 0.271\n",
      "[epoch: 21, i:  2999] avg mini-batch loss: 0.242\n",
      "[epoch: 21, i:  3499] avg mini-batch loss: 0.325\n",
      "[epoch: 22, i:   499] avg mini-batch loss: 0.212\n",
      "[epoch: 22, i:   999] avg mini-batch loss: 0.210\n",
      "[epoch: 22, i:  1499] avg mini-batch loss: 0.228\n",
      "[epoch: 22, i:  1999] avg mini-batch loss: 0.193\n",
      "[epoch: 22, i:  2499] avg mini-batch loss: 0.165\n",
      "[epoch: 22, i:  2999] avg mini-batch loss: 0.381\n",
      "[epoch: 22, i:  3499] avg mini-batch loss: 0.437\n",
      "[epoch: 23, i:   499] avg mini-batch loss: 0.288\n",
      "[epoch: 23, i:   999] avg mini-batch loss: 0.185\n",
      "[epoch: 23, i:  1499] avg mini-batch loss: 0.164\n",
      "[epoch: 23, i:  1999] avg mini-batch loss: 0.183\n",
      "[epoch: 23, i:  2499] avg mini-batch loss: 0.199\n",
      "[epoch: 23, i:  2999] avg mini-batch loss: 0.217\n",
      "[epoch: 23, i:  3499] avg mini-batch loss: 0.229\n",
      "[epoch: 24, i:   499] avg mini-batch loss: 0.250\n",
      "[epoch: 24, i:   999] avg mini-batch loss: 0.231\n",
      "[epoch: 24, i:  1499] avg mini-batch loss: 0.300\n",
      "[epoch: 24, i:  1999] avg mini-batch loss: 0.183\n",
      "[epoch: 24, i:  2499] avg mini-batch loss: 0.171\n",
      "[epoch: 24, i:  2999] avg mini-batch loss: 0.177\n",
      "[epoch: 24, i:  3499] avg mini-batch loss: 0.243\n",
      "[epoch: 25, i:   499] avg mini-batch loss: 0.177\n",
      "[epoch: 25, i:   999] avg mini-batch loss: 0.226\n",
      "[epoch: 25, i:  1499] avg mini-batch loss: 0.232\n",
      "[epoch: 25, i:  1999] avg mini-batch loss: 0.181\n",
      "[epoch: 25, i:  2499] avg mini-batch loss: 0.266\n",
      "[epoch: 25, i:  2999] avg mini-batch loss: 0.223\n",
      "[epoch: 25, i:  3499] avg mini-batch loss: 0.430\n",
      "[epoch: 26, i:   499] avg mini-batch loss: 0.325\n",
      "[epoch: 26, i:   999] avg mini-batch loss: 0.166\n",
      "[epoch: 26, i:  1499] avg mini-batch loss: 0.222\n",
      "[epoch: 26, i:  1999] avg mini-batch loss: 0.207\n",
      "[epoch: 26, i:  2499] avg mini-batch loss: 0.225\n",
      "[epoch: 26, i:  2999] avg mini-batch loss: 0.541\n",
      "[epoch: 26, i:  3499] avg mini-batch loss: 0.198\n",
      "[epoch: 27, i:   499] avg mini-batch loss: 0.213\n",
      "[epoch: 27, i:   999] avg mini-batch loss: 0.213\n",
      "[epoch: 27, i:  1499] avg mini-batch loss: 0.359\n",
      "[epoch: 27, i:  1999] avg mini-batch loss: 0.219\n",
      "[epoch: 27, i:  2499] avg mini-batch loss: 0.248\n",
      "[epoch: 27, i:  2999] avg mini-batch loss: 0.204\n",
      "[epoch: 27, i:  3499] avg mini-batch loss: 0.221\n",
      "[epoch: 28, i:   499] avg mini-batch loss: 0.179\n",
      "[epoch: 28, i:   999] avg mini-batch loss: 0.184\n",
      "[epoch: 28, i:  1499] avg mini-batch loss: 0.189\n",
      "[epoch: 28, i:  1999] avg mini-batch loss: 0.181\n",
      "[epoch: 28, i:  2499] avg mini-batch loss: 0.193\n",
      "[epoch: 28, i:  2999] avg mini-batch loss: 0.207\n",
      "[epoch: 28, i:  3499] avg mini-batch loss: 0.154\n",
      "[epoch: 29, i:   499] avg mini-batch loss: 0.169\n",
      "[epoch: 29, i:   999] avg mini-batch loss: 0.146\n",
      "[epoch: 29, i:  1499] avg mini-batch loss: 0.133\n",
      "[epoch: 29, i:  1999] avg mini-batch loss: 0.281\n",
      "[epoch: 29, i:  2499] avg mini-batch loss: 0.206\n",
      "[epoch: 29, i:  2999] avg mini-batch loss: 0.240\n",
      "[epoch: 29, i:  3499] avg mini-batch loss: 0.198\n",
      "[epoch: 30, i:   499] avg mini-batch loss: 0.207\n",
      "[epoch: 30, i:   999] avg mini-batch loss: 0.285\n",
      "[epoch: 30, i:  1499] avg mini-batch loss: 0.195\n",
      "[epoch: 30, i:  1999] avg mini-batch loss: 0.161\n",
      "[epoch: 30, i:  2499] avg mini-batch loss: 0.266\n",
      "[epoch: 30, i:  2999] avg mini-batch loss: 0.219\n",
      "[epoch: 30, i:  3499] avg mini-batch loss: 0.237\n",
      "[epoch: 31, i:   499] avg mini-batch loss: 0.148\n",
      "[epoch: 31, i:   999] avg mini-batch loss: 0.176\n",
      "[epoch: 31, i:  1499] avg mini-batch loss: 0.172\n",
      "[epoch: 31, i:  1999] avg mini-batch loss: 0.258\n",
      "[epoch: 31, i:  2499] avg mini-batch loss: 0.213\n",
      "[epoch: 31, i:  2999] avg mini-batch loss: 0.232\n",
      "[epoch: 31, i:  3499] avg mini-batch loss: 0.166\n",
      "[epoch: 32, i:   499] avg mini-batch loss: 0.189\n",
      "[epoch: 32, i:   999] avg mini-batch loss: 0.235\n",
      "[epoch: 32, i:  1499] avg mini-batch loss: 0.230\n",
      "[epoch: 32, i:  1999] avg mini-batch loss: 0.193\n",
      "[epoch: 32, i:  2499] avg mini-batch loss: 0.533\n",
      "[epoch: 32, i:  2999] avg mini-batch loss: 0.375\n",
      "[epoch: 32, i:  3499] avg mini-batch loss: 0.194\n",
      "[epoch: 33, i:   499] avg mini-batch loss: 0.121\n",
      "[epoch: 33, i:   999] avg mini-batch loss: 0.163\n",
      "[epoch: 33, i:  1499] avg mini-batch loss: 0.199\n",
      "[epoch: 33, i:  1999] avg mini-batch loss: 0.511\n",
      "[epoch: 33, i:  2499] avg mini-batch loss: 0.360\n",
      "[epoch: 33, i:  2999] avg mini-batch loss: 0.182\n",
      "[epoch: 33, i:  3499] avg mini-batch loss: 0.209\n",
      "[epoch: 34, i:   499] avg mini-batch loss: 0.229\n",
      "[epoch: 34, i:   999] avg mini-batch loss: 0.318\n",
      "[epoch: 34, i:  1499] avg mini-batch loss: 0.190\n",
      "[epoch: 34, i:  1999] avg mini-batch loss: 0.175\n",
      "[epoch: 34, i:  2499] avg mini-batch loss: 0.224\n",
      "[epoch: 34, i:  2999] avg mini-batch loss: 0.230\n",
      "[epoch: 34, i:  3499] avg mini-batch loss: 0.293\n",
      "[epoch: 35, i:   499] avg mini-batch loss: 0.195\n",
      "[epoch: 35, i:   999] avg mini-batch loss: 0.148\n",
      "[epoch: 35, i:  1499] avg mini-batch loss: 0.247\n",
      "[epoch: 35, i:  1999] avg mini-batch loss: 0.191\n",
      "[epoch: 35, i:  2499] avg mini-batch loss: 0.178\n",
      "[epoch: 35, i:  2999] avg mini-batch loss: 0.195\n",
      "[epoch: 35, i:  3499] avg mini-batch loss: 0.217\n",
      "[epoch: 36, i:   499] avg mini-batch loss: 0.146\n",
      "[epoch: 36, i:   999] avg mini-batch loss: 0.151\n",
      "[epoch: 36, i:  1499] avg mini-batch loss: 0.165\n",
      "[epoch: 36, i:  1999] avg mini-batch loss: 0.211\n",
      "[epoch: 36, i:  2499] avg mini-batch loss: 0.177\n",
      "[epoch: 36, i:  2999] avg mini-batch loss: 0.178\n",
      "[epoch: 36, i:  3499] avg mini-batch loss: 0.176\n",
      "[epoch: 37, i:   499] avg mini-batch loss: 0.337\n",
      "[epoch: 37, i:   999] avg mini-batch loss: 0.862\n",
      "[epoch: 37, i:  1499] avg mini-batch loss: 0.190\n",
      "[epoch: 37, i:  1999] avg mini-batch loss: 0.165\n",
      "[epoch: 37, i:  2499] avg mini-batch loss: 0.187\n",
      "[epoch: 37, i:  2999] avg mini-batch loss: 0.200\n",
      "[epoch: 37, i:  3499] avg mini-batch loss: 0.334\n",
      "[epoch: 38, i:   499] avg mini-batch loss: 0.205\n",
      "[epoch: 38, i:   999] avg mini-batch loss: 0.143\n",
      "[epoch: 38, i:  1499] avg mini-batch loss: 0.174\n",
      "[epoch: 38, i:  1999] avg mini-batch loss: 0.144\n",
      "[epoch: 38, i:  2499] avg mini-batch loss: 0.137\n",
      "[epoch: 38, i:  2999] avg mini-batch loss: 0.136\n",
      "[epoch: 38, i:  3499] avg mini-batch loss: 0.131\n",
      "[epoch: 39, i:   499] avg mini-batch loss: 0.275\n",
      "[epoch: 39, i:   999] avg mini-batch loss: 0.230\n",
      "[epoch: 39, i:  1499] avg mini-batch loss: 0.211\n",
      "[epoch: 39, i:  1999] avg mini-batch loss: 0.214\n",
      "[epoch: 39, i:  2499] avg mini-batch loss: 0.196\n",
      "[epoch: 39, i:  2999] avg mini-batch loss: 0.185\n",
      "[epoch: 39, i:  3499] avg mini-batch loss: 0.195\n",
      "[epoch: 40, i:   499] avg mini-batch loss: 0.218\n",
      "[epoch: 40, i:   999] avg mini-batch loss: 0.188\n",
      "[epoch: 40, i:  1499] avg mini-batch loss: 0.178\n",
      "[epoch: 40, i:  1999] avg mini-batch loss: 0.180\n",
      "[epoch: 40, i:  2499] avg mini-batch loss: 0.218\n",
      "[epoch: 40, i:  2999] avg mini-batch loss: 0.162\n",
      "[epoch: 40, i:  3499] avg mini-batch loss: 0.238\n",
      "[epoch: 41, i:   499] avg mini-batch loss: 0.193\n",
      "[epoch: 41, i:   999] avg mini-batch loss: 0.211\n",
      "[epoch: 41, i:  1499] avg mini-batch loss: 0.130\n",
      "[epoch: 41, i:  1999] avg mini-batch loss: 0.180\n",
      "[epoch: 41, i:  2499] avg mini-batch loss: 0.152\n",
      "[epoch: 41, i:  2999] avg mini-batch loss: 0.185\n",
      "[epoch: 41, i:  3499] avg mini-batch loss: 0.169\n",
      "[epoch: 42, i:   499] avg mini-batch loss: 0.721\n",
      "[epoch: 42, i:   999] avg mini-batch loss: 0.217\n",
      "[epoch: 42, i:  1499] avg mini-batch loss: 0.194\n",
      "[epoch: 42, i:  1999] avg mini-batch loss: 0.253\n",
      "[epoch: 42, i:  2499] avg mini-batch loss: 0.268\n",
      "[epoch: 42, i:  2999] avg mini-batch loss: 0.225\n",
      "[epoch: 42, i:  3499] avg mini-batch loss: 0.334\n",
      "[epoch: 43, i:   499] avg mini-batch loss: 0.195\n",
      "[epoch: 43, i:   999] avg mini-batch loss: 0.135\n",
      "[epoch: 43, i:  1499] avg mini-batch loss: 0.141\n",
      "[epoch: 43, i:  1999] avg mini-batch loss: 0.251\n",
      "[epoch: 43, i:  2499] avg mini-batch loss: 0.198\n",
      "[epoch: 43, i:  2999] avg mini-batch loss: 0.144\n",
      "[epoch: 43, i:  3499] avg mini-batch loss: 0.183\n",
      "[epoch: 44, i:   499] avg mini-batch loss: 0.199\n",
      "[epoch: 44, i:   999] avg mini-batch loss: 0.436\n",
      "[epoch: 44, i:  1499] avg mini-batch loss: 0.121\n",
      "[epoch: 44, i:  1999] avg mini-batch loss: 0.167\n",
      "[epoch: 44, i:  2499] avg mini-batch loss: 0.260\n",
      "[epoch: 44, i:  2999] avg mini-batch loss: 0.237\n",
      "[epoch: 44, i:  3499] avg mini-batch loss: 0.261\n",
      "[epoch: 45, i:   499] avg mini-batch loss: 0.167\n",
      "[epoch: 45, i:   999] avg mini-batch loss: 0.129\n",
      "[epoch: 45, i:  1499] avg mini-batch loss: 0.144\n",
      "[epoch: 45, i:  1999] avg mini-batch loss: 0.159\n",
      "[epoch: 45, i:  2499] avg mini-batch loss: 0.235\n",
      "[epoch: 45, i:  2999] avg mini-batch loss: 0.154\n",
      "[epoch: 45, i:  3499] avg mini-batch loss: 0.111\n",
      "[epoch: 46, i:   499] avg mini-batch loss: 0.137\n",
      "[epoch: 46, i:   999] avg mini-batch loss: 0.224\n",
      "[epoch: 46, i:  1499] avg mini-batch loss: 0.248\n",
      "[epoch: 46, i:  1999] avg mini-batch loss: 0.412\n",
      "[epoch: 46, i:  2499] avg mini-batch loss: 0.324\n",
      "[epoch: 46, i:  2999] avg mini-batch loss: 0.334\n",
      "[epoch: 46, i:  3499] avg mini-batch loss: 0.267\n",
      "[epoch: 47, i:   499] avg mini-batch loss: 0.200\n",
      "[epoch: 47, i:   999] avg mini-batch loss: 0.277\n",
      "[epoch: 47, i:  1499] avg mini-batch loss: 0.364\n",
      "[epoch: 47, i:  1999] avg mini-batch loss: 0.310\n",
      "[epoch: 47, i:  2499] avg mini-batch loss: 0.244\n",
      "[epoch: 47, i:  2999] avg mini-batch loss: 0.304\n",
      "[epoch: 47, i:  3499] avg mini-batch loss: 0.151\n",
      "[epoch: 48, i:   499] avg mini-batch loss: 0.196\n",
      "[epoch: 48, i:   999] avg mini-batch loss: 0.160\n",
      "[epoch: 48, i:  1499] avg mini-batch loss: 0.237\n",
      "[epoch: 48, i:  1999] avg mini-batch loss: 0.123\n",
      "[epoch: 48, i:  2499] avg mini-batch loss: 0.269\n",
      "[epoch: 48, i:  2999] avg mini-batch loss: 0.160\n",
      "[epoch: 48, i:  3499] avg mini-batch loss: 0.119\n",
      "[epoch: 49, i:   499] avg mini-batch loss: 0.160\n",
      "[epoch: 49, i:   999] avg mini-batch loss: 0.175\n",
      "[epoch: 49, i:  1499] avg mini-batch loss: 0.146\n",
      "[epoch: 49, i:  1999] avg mini-batch loss: 0.278\n",
      "[epoch: 49, i:  2499] avg mini-batch loss: 0.419\n",
      "[epoch: 49, i:  2999] avg mini-batch loss: 0.184\n",
      "[epoch: 49, i:  3499] avg mini-batch loss: 0.314\n",
      "Finished Training.\n"
     ]
    }
   ],
   "source": [
    "avg_losses = []   # Avg. losses.\n",
    "epochs = 50       # Total epochs.\n",
    "print_freq = 500  # Print frequency.\n",
    "\n",
    "for epoch in range(epochs):  # Loop over the dataset multiple times.\n",
    "    running_loss = 0.0       # Initialize running loss.\n",
    "    for i, data in enumerate(train_loader, 0):\n",
    "        # Get the inputs.\n",
    "        inputs, labels = data\n",
    "\n",
    "        # Move the inputs to the specified device.\n",
    "        inputs, labels = inputs.to(device), labels.to(device)\n",
    "        \n",
    "        # Zero the parameter gradients.\n",
    "        opt.zero_grad()\n",
    "\n",
    "        # Forward step.\n",
    "        outputs = alexnet.forward(inputs)\n",
    "        loss = loss_func(outputs, labels)\n",
    "        \n",
    "        # Backward step.\n",
    "        loss.backward()\n",
    "        \n",
    "        # Optimization step (update the parameters).\n",
    "        opt.step()\n",
    "\n",
    "        # Print statistics.\n",
    "        running_loss += loss.item()\n",
    "        if i % print_freq == print_freq - 1: # Print every several mini-batches.\n",
    "            avg_loss = running_loss / print_freq\n",
    "            print('[epoch: {}, i: {:5d}] avg mini-batch loss: {:.3f}'.format(\n",
    "                epoch, i, avg_loss))\n",
    "            avg_losses.append(avg_loss)\n",
    "            running_loss = 0.0\n",
    "\n",
    "print('Finished Training.')"
   ]
  },
  {
   "cell_type": "code",
   "execution_count": 13,
   "metadata": {
    "colab": {
     "base_uri": "https://localhost:8080/",
     "height": 279
    },
    "colab_type": "code",
    "id": "3SB9DvwQkmO5",
    "outputId": "fb01a4f5-374c-4296-846b-a4c1980e3eab"
   },
   "outputs": [
    {
     "data": {
      "image/png": "[encoded data removed]",
      "text/plain": [
       "<Figure size 432x288 with 1 Axes>"
      ]
     },
     "metadata": {
      "needs_background": "light"
     },
     "output_type": "display_data"
    }
   ],
   "source": [
    "#training loss curve\n",
    "plt.plot(avg_losses)\n",
    "plt.xlabel('mini-batch index / {}'.format(print_freq))\n",
    "plt.ylabel('avg. mini-batch loss')\n",
    "plt.show()"
   ]
  },
  {
   "cell_type": "code",
   "execution_count": 14,
   "metadata": {
    "colab": {
     "base_uri": "https://localhost:8080/",
     "height": 34
    },
    "colab_type": "code",
    "id": "iyTd40NLB1Ym",
    "outputId": "7a463bc2-3906-48a4-db44-0655ece612e8"
   },
   "outputs": [
    {
     "name": "stdout",
     "output_type": "stream",
     "text": [
      "Accuracy of the network test images: 82 %\n"
     ]
    }
   ],
   "source": [
    "# Get test accuracy.\n",
    "correct = 0\n",
    "total = 0\n",
    "\n",
    "labelsForAUC = []\n",
    "predictFOrAUC = []\n",
    "\n",
    "with torch.no_grad():\n",
    "    for data in test_loader:\n",
    "        images, labels = data\n",
    "        images, labels = images.to(device), labels.to(device)\n",
    "        outputs = alexnet.forward(images)\n",
    "        _, predicted = torch.max(outputs.data, 1)\n",
    "        total += labels.size(0)\n",
    "        correct += (predicted == labels).sum().item()\n",
    "\n",
    "        labelsForAUC.append(labels.cpu().numpy())\n",
    "        predictFOrAUC.append(predicted.cpu().numpy())\n",
    "\n",
    "print('Accuracy of the network test images: %d %%' % (\n",
    "    100 * correct / total))"
   ]
  },
  {
   "cell_type": "code",
   "execution_count": 15,
   "metadata": {
    "colab": {},
    "colab_type": "code",
    "id": "3wNA2NWem6Tz"
   },
   "outputs": [],
   "source": [
    "label= np.concatenate( labelsForAUC, axis=0)\n",
    "predict = np.concatenate( predictFOrAUC, axis=0)"
   ]
  },
  {
   "cell_type": "code",
   "execution_count": 16,
   "metadata": {
    "colab": {},
    "colab_type": "code",
    "id": "C86DrT3-m8v5"
   },
   "outputs": [],
   "source": [
    "cMatrix = confusion_matrix(y_true=label,y_pred=predict,labels=[0, 1, 2])"
   ]
  },
  {
   "cell_type": "code",
   "execution_count": 17,
   "metadata": {
    "colab": {
     "base_uri": "https://localhost:8080/",
     "height": 313
    },
    "colab_type": "code",
    "id": "iJMWcMLmm9bR",
    "outputId": "65ded8df-733b-422b-fb7f-a5ca3264e81a"
   },
   "outputs": [
    {
     "data": {
      "text/plain": [
       "Text(0.5, 0.98, 'Confusion Matrix')"
      ]
     },
     "execution_count": 17,
     "metadata": {},
     "output_type": "execute_result"
    },
    {
     "data": {
      "image/png": "[encoded data removed]",
      "text/plain": [
       "<Figure size 432x288 with 2 Axes>"
      ]
     },
     "metadata": {
      "needs_background": "light"
     },
     "output_type": "display_data"
    }
   ],
   "source": [
    "ax = sn.heatmap(cMatrix,annot=True,fmt=\"d\",xticklabels=classes,yticklabels=classes)\n",
    "bottom, top = ax.get_ylim()\n",
    "ax.set_ylim(bottom + 0.5, top - 0.5)\n",
    "plt.suptitle('Confusion Matrix')"
   ]
  },
  {
   "cell_type": "code",
   "execution_count": 18,
   "metadata": {
    "colab": {
     "base_uri": "https://localhost:8080/",
     "height": 207
    },
    "colab_type": "code",
    "id": "UxWXZJCkR6BO",
    "outputId": "4fe209b4-f04c-4fd0-b0ed-d7a13ec5e79c"
   },
   "outputs": [
    {
     "name": "stderr",
     "output_type": "stream",
     "text": [
      "Clipping input data to the valid range for imshow with RGB data ([0..1] for floats or [0..255] for integers).\n"
     ]
    },
    {
     "data": {
      "image/png": "[encoded data removed]",
      "text/plain": [
       "<Figure size 432x288 with 1 Axes>"
      ]
     },
     "metadata": {
      "needs_background": "light"
     },
     "output_type": "display_data"
    },
    {
     "name": "stdout",
     "output_type": "stream",
     "text": [
      "GroundTruth:  normal normal normal normal\n",
      "Predicted:  normal normal normal normal\n"
     ]
    }
   ],
   "source": [
    "# The function to show an image.\n",
    "def imshow(img):\n",
    "    img = img / 3.33 + 0.5     # Unnormalize.\n",
    "    npimg = img.numpy()\n",
    "    plt.imshow(np.transpose(npimg, (1, 2, 0)))\n",
    "    plt.show()\n",
    "\n",
    "# Check several images.\n",
    "dataiter = iter(test_loader)\n",
    "images, labels = dataiter.next()\n",
    "imshow(torchvision.utils.make_grid(images))\n",
    "print('GroundTruth: ', ' '.join('%5s' % classes[labels[j]] for j in range(4)))\n",
    "outputs = alexnet.forward(images.to(device))\n",
    "_, predicted = torch.max(outputs, 1)\n",
    "\n",
    "print('Predicted: ', ' '.join('%5s' % classes[predicted[j]] for j in range(4)))"
   ]
  }
 ],
 "metadata": {
  "accelerator": "GPU",
  "colab": {
   "collapsed_sections": [],
   "name": "alexnetTransferLearning.ipynb",
   "provenance": []
  },
  "kernelspec": {
   "display_name": "Python 3",
   "language": "python",
   "name": "python3"
  },
  "language_info": {
   "codemirror_mode": {
    "name": "ipython",
    "version": 3
   },
   "file_extension": ".py",
   "mimetype": "text/x-python",
   "name": "python",
   "nbconvert_exporter": "python",
   "pygments_lexer": "ipython3",
   "version": "3.7.3"
  },
  "widgets": {
   "application/vnd.jupyter.widget-state+json": {
    "34155e58ab3f4626a06f7ccf9cdfd27c": {
     "model_module": "@jupyter-widgets/base",
     "model_name": "LayoutModel",
     "state": {
      "_model_module": "@jupyter-widgets/base",
      "_model_module_version": "1.2.0",
      "_model_name": "LayoutModel",
      "_view_count": null,
      "_view_module": "@jupyter-widgets/base",
      "_view_module_version": "1.2.0",
      "_view_name": "LayoutView",
      "align_content": null,
      "align_items": null,
      "align_self": null,
      "border": null,
      "bottom": null,
      "display": null,
      "flex": null,
      "flex_flow": null,
      "grid_area": null,
      "grid_auto_columns": null,
      "grid_auto_flow": null,
      "grid_auto_rows": null,
      "grid_column": null,
      "grid_gap": null,
      "grid_row": null,
      "grid_template_areas": null,
      "grid_template_columns": null,
      "grid_template_rows": null,
      "height": null,
      "justify_content": null,
      "justify_items": null,
      "left": null,
      "margin": null,
      "max_height": null,
      "max_width": null,
      "min_height": null,
      "min_width": null,
      "object_fit": null,
      "object_position": null,
      "order": null,
      "overflow": null,
      "overflow_x": null,
      "overflow_y": null,
      "padding": null,
      "right": null,
      "top": null,
      "visibility": null,
      "width": null
     }
    },
    "4c7f7e2a70fd48cb98ad78b23b19a5f3": {
     "model_module": "@jupyter-widgets/base",
     "model_name": "LayoutModel",
     "state": {
      "_model_module": "@jupyter-widgets/base",
      "_model_module_version": "1.2.0",
      "_model_name": "LayoutModel",
      "_view_count": null,
      "_view_module": "@jupyter-widgets/base",
      "_view_module_version": "1.2.0",
      "_view_name": "LayoutView",
      "align_content": null,
      "align_items": null,
      "align_self": null,
      "border": null,
      "bottom": null,
      "display": null,
      "flex": null,
      "flex_flow": null,
      "grid_area": null,
      "grid_auto_columns": null,
      "grid_auto_flow": null,
      "grid_auto_rows": null,
      "grid_column": null,
      "grid_gap": null,
      "grid_row": null,
      "grid_template_areas": null,
      "grid_template_columns": null,
      "grid_template_rows": null,
      "height": null,
      "justify_content": null,
      "justify_items": null,
      "left": null,
      "margin": null,
      "max_height": null,
      "max_width": null,
      "min_height": null,
      "min_width": null,
      "object_fit": null,
      "object_position": null,
      "order": null,
      "overflow": null,
      "overflow_x": null,
      "overflow_y": null,
      "padding": null,
      "right": null,
      "top": null,
      "visibility": null,
      "width": null
     }
    },
    "52d358ac023a42498f0462e28cc15973": {
     "model_module": "@jupyter-widgets/controls",
     "model_name": "DescriptionStyleModel",
     "state": {
      "_model_module": "@jupyter-widgets/controls",
      "_model_module_version": "1.5.0",
      "_model_name": "DescriptionStyleModel",
      "_view_count": null,
      "_view_module": "@jupyter-widgets/base",
      "_view_module_version": "1.2.0",
      "_view_name": "StyleView",
      "description_width": ""
     }
    },
    "6e1794234203413c8e61b9b16f58e6f8": {
     "model_module": "@jupyter-widgets/controls",
     "model_name": "ProgressStyleModel",
     "state": {
      "_model_module": "@jupyter-widgets/controls",
      "_model_module_version": "1.5.0",
      "_model_name": "ProgressStyleModel",
      "_view_count": null,
      "_view_module": "@jupyter-widgets/base",
      "_view_module_version": "1.2.0",
      "_view_name": "StyleView",
      "bar_color": null,
      "description_width": "initial"
     }
    },
    "acfa9750637a4ef894115b6d1a85f38d": {
     "model_module": "@jupyter-widgets/controls",
     "model_name": "HBoxModel",
     "state": {
      "_dom_classes": [],
      "_model_module": "@jupyter-widgets/controls",
      "_model_module_version": "1.5.0",
      "_model_name": "HBoxModel",
      "_view_count": null,
      "_view_module": "@jupyter-widgets/controls",
      "_view_module_version": "1.5.0",
      "_view_name": "HBoxView",
      "box_style": "",
      "children": [
       "IPY_MODEL_dfb9171bd918474fad396e3b000b5c26",
       "IPY_MODEL_e0c1f9ff785e459f9ae9e3fcfe61b43e"
      ],
      "layout": "IPY_MODEL_34155e58ab3f4626a06f7ccf9cdfd27c"
     }
    },
    "dfb9171bd918474fad396e3b000b5c26": {
     "model_module": "@jupyter-widgets/controls",
     "model_name": "FloatProgressModel",
     "state": {
      "_dom_classes": [],
      "_model_module": "@jupyter-widgets/controls",
      "_model_module_version": "1.5.0",
      "_model_name": "FloatProgressModel",
      "_view_count": null,
      "_view_module": "@jupyter-widgets/controls",
      "_view_module_version": "1.5.0",
      "_view_name": "ProgressView",
      "bar_style": "success",
      "description": "100%",
      "description_tooltip": null,
      "layout": "IPY_MODEL_f591c9b667d34e3084fd0cb237b666f0",
      "max": 244418560,
      "min": 0,
      "orientation": "horizontal",
      "style": "IPY_MODEL_6e1794234203413c8e61b9b16f58e6f8",
      "value": 244418560
     }
    },
    "e0c1f9ff785e459f9ae9e3fcfe61b43e": {
     "model_module": "@jupyter-widgets/controls",
     "model_name": "HTMLModel",
     "state": {
      "_dom_classes": [],
      "_model_module": "@jupyter-widgets/controls",
      "_model_module_version": "1.5.0",
      "_model_name": "HTMLModel",
      "_view_count": null,
      "_view_module": "@jupyter-widgets/controls",
      "_view_module_version": "1.5.0",
      "_view_name": "HTMLView",
      "description": "",
      "description_tooltip": null,
      "layout": "IPY_MODEL_4c7f7e2a70fd48cb98ad78b23b19a5f3",
      "placeholder": "​",
      "style": "IPY_MODEL_52d358ac023a42498f0462e28cc15973",
      "value": " 233M/233M [5:52:47&lt;00:00, 11.5kB/s]"
     }
    },
    "f591c9b667d34e3084fd0cb237b666f0": {
     "model_module": "@jupyter-widgets/base",
     "model_name": "LayoutModel",
     "state": {
      "_model_module": "@jupyter-widgets/base",
      "_model_module_version": "1.2.0",
      "_model_name": "LayoutModel",
      "_view_count": null,
      "_view_module": "@jupyter-widgets/base",
      "_view_module_version": "1.2.0",
      "_view_name": "LayoutView",
      "align_content": null,
      "align_items": null,
      "align_self": null,
      "border": null,
      "bottom": null,
      "display": null,
      "flex": null,
      "flex_flow": null,
      "grid_area": null,
      "grid_auto_columns": null,
      "grid_auto_flow": null,
      "grid_auto_rows": null,
      "grid_column": null,
      "grid_gap": null,
      "grid_row": null,
      "grid_template_areas": null,
      "grid_template_columns": null,
      "grid_template_rows": null,
      "height": null,
      "justify_content": null,
      "justify_items": null,
      "left": null,
      "margin": null,
      "max_height": null,
      "max_width": null,
      "min_height": null,
      "min_width": null,
      "object_fit": null,
      "object_position": null,
      "order": null,
      "overflow": null,
      "overflow_x": null,
      "overflow_y": null,
      "padding": null,
      "right": null,
      "top": null,
      "visibility": null,
      "width": null
     }
    }
   }
  }
 },
 "nbformat": 4,
 "nbformat_minor": 1
}
